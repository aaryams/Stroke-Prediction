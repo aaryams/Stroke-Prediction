{
  "nbformat": 4,
  "nbformat_minor": 0,
  "metadata": {
    "colab": {
      "provenance": []
    },
    "kernelspec": {
      "name": "python3",
      "display_name": "Python 3"
    },
    "language_info": {
      "name": "python"
    }
  },
  "cells": [
    {
      "cell_type": "markdown",
      "source": [
        "# **Stroke Prediction using Machine Learning**"
      ],
      "metadata": {
        "id": "sXNpVF8842yh"
      }
    },
    {
      "cell_type": "markdown",
      "source": [
        "### **Project Description**"
      ],
      "metadata": {
        "id": "wSbvJwvr5kVt"
      }
    },
    {
      "cell_type": "markdown",
      "source": [
        "In this project, the goal is to predict whether a person is likely to have a stroke based on the individual's medical and demographic information. Strokes are one of the leading causes of disability and death worldwide, making early prediction crucial for timely intervention and treatment. Using machine learning algorithms, we aim to develop a model that can identify key risk factors such as age, blood pressure, glucose levels, and lifestyle habits, and predict the likelihood of a stroke.\n",
        "\n",
        "The project involves collecting relevant health data from patients, preprocessing it, and training machine learning models to make accurate predictions. By leveraging algorithms like Logistic Regression and Random Forests, this model will help healthcare providers identify high-risk individuals, ultimately contributing to preventive healthcare measures and reducing the overall stroke incidence."
      ],
      "metadata": {
        "id": "sVZSvxEk5imr"
      }
    },
    {
      "cell_type": "markdown",
      "source": [
        "### **Project Objectives:**"
      ],
      "metadata": {
        "id": "LVh7igYK54lo"
      }
    },
    {
      "cell_type": "markdown",
      "source": [
        "\n",
        "\n",
        "\n",
        "\n",
        "1. Data Collection and Preprocessing: Collect a comprehensive dataset that includes patient medical history, lifestyle factors, and demographic details.Clean, preprocess, and transform the data (e.g., handling missing values, normalizing features, encoding categorical variables) to make it suitable for machine learning models.\n",
        "\n",
        "1.   Feature Selection: Identify and select the most relevant features (age, BMI, hypertension, smoking status, etc.) that have the strongest correlation with stroke risk.\n",
        "\n",
        "1.   Model Development: Build and train multiple machine learning models (e.g., Logistic Regression, Random Forest, Support Vector Machine, Gradient Boosting) to predict the likelihood of a stroke based on patient input data.\n",
        "2.   Model Evalution : Evaluate the performance of the models using key metrics such as accuracy, precision, recall, F1-score, and ROC-AUC to determine the best-performing model.\n",
        "\n",
        "5.   Prediction and Interpretation: Develop a final predictive model that can accurately classify whether a patient is at risk of having a stroke.Provide insights into which features (e.g., glucose levels, hypertension) contribute most to the model’s predictions, offering interpretability for medical practitioners.\n",
        "\n",
        "\n",
        "\n",
        "\n",
        "\n",
        "\n"
      ],
      "metadata": {
        "id": "DzK4Nnyc6MO1"
      }
    },
    {
      "cell_type": "markdown",
      "source": [
        "### **Data Description**"
      ],
      "metadata": {
        "id": "g0BSj38t7u-l"
      }
    },
    {
      "cell_type": "markdown",
      "source": [
        "Following is the Data Dictionary for healthcare-dataset-stroke-data:-\n",
        "\n",
        "*   gender- Male or Female\n",
        "*   Age- Patient's age\n",
        "\n",
        "*   hypertension- Whether the patient's is having hypertension or not\n",
        "*   heart_disease- Whether the patient's have heart disease or not.\n",
        "\n",
        "*   ever_married - Patient's is married or not\n",
        "*   work_type - Patient's working sector\n",
        "\n",
        "\n",
        "*   Residence_type- Patient's residence type ie;Urban or Rural\n",
        "\n",
        "*  avg_glucose_level - Patient's glucose level\n",
        "\n",
        "\n",
        "*   bmi - Patient's Body mass index values\n",
        "*   smoking_status - Whether the Patient smoke or not\n",
        "\n",
        "\n",
        "\n",
        "*  stroke - Have stroke or not\n",
        "\n",
        "\n",
        "\n",
        "\n",
        "\n",
        "\n",
        "\n",
        "\n",
        "\n",
        "\n",
        "\n",
        "\n",
        "\n"
      ],
      "metadata": {
        "id": "M7L0nzd570rG"
      }
    },
    {
      "cell_type": "markdown",
      "source": [
        "### **Import Libraries**"
      ],
      "metadata": {
        "id": "vTa_y2qR-Ogf"
      }
    },
    {
      "cell_type": "code",
      "execution_count": 115,
      "metadata": {
        "id": "gCP8xrNL3Fhh"
      },
      "outputs": [],
      "source": [
        "import pandas as pd\n",
        "import numpy as np\n",
        "from sklearn.model_selection import train_test_split\n",
        "from sklearn.preprocessing import StandardScaler,LabelEncoder\n",
        "from sklearn.linear_model import LogisticRegression\n",
        "from sklearn.ensemble import RandomForestClassifier\n",
        "from sklearn.metrics import accuracy_score,confusion_matrix,classification_report,roc_auc_score, roc_curve\n",
        "import matplotlib.pyplot as plt\n",
        "import seaborn as sns\n",
        "import warnings\n",
        "warnings.filterwarnings('ignore')\n"
      ]
    },
    {
      "cell_type": "markdown",
      "source": [
        "### Load the Dataset"
      ],
      "metadata": {
        "id": "BauhVwAtMz5w"
      }
    },
    {
      "cell_type": "code",
      "source": [
        "df=pd.read_csv('stroke_data.csv')\n",
        "print(df.head(1))\n",
        "print(df.shape)\n",
        "df1=df.copy()#copying the original dataset"
      ],
      "metadata": {
        "id": "q1lZZOnuL_0N",
        "colab": {
          "base_uri": "https://localhost:8080/"
        },
        "outputId": "46d3ff15-7612-45b5-c254-9f92d4feef14"
      },
      "execution_count": 116,
      "outputs": [
        {
          "output_type": "stream",
          "name": "stdout",
          "text": [
            "     id gender   age  hypertension  ...  avg_glucose_level   bmi   smoking_status stroke\n",
            "0  9046   Male  67.0             0  ...             228.69  36.6  formerly smoked      1\n",
            "\n",
            "[1 rows x 12 columns]\n",
            "(5110, 12)\n"
          ]
        }
      ]
    },
    {
      "cell_type": "markdown",
      "source": [
        "## Data Preprocessing"
      ],
      "metadata": {
        "id": "Ryt1ZZzpM_cj"
      }
    },
    {
      "cell_type": "code",
      "source": [
        "df.isnull().sum()\n",
        "df.dropna(inplace=True)\n",
        "print(df.shape)\n",
        "df.head()\n",
        "le=LabelEncoder()\n",
        "df['gender']=le.fit_transform(df['gender'])\n",
        "df['ever_married']=le.fit_transform(df['ever_married'])\n",
        "df['work_type']=le.fit_transform(df['work_type'])\n",
        "df['Residence_type']=le.fit_transform(df['Residence_type'])\n",
        "df['smoking_status']=le.fit_transform(df['smoking_status'])\n",
        "df.head()\n",
        "print(df.columns)\n",
        "\n"
      ],
      "metadata": {
        "colab": {
          "base_uri": "https://localhost:8080/"
        },
        "id": "p6W_tpgRMpzP",
        "outputId": "3452d283-5a9f-486e-dbcb-fcc26da77460"
      },
      "execution_count": 117,
      "outputs": [
        {
          "output_type": "stream",
          "name": "stdout",
          "text": [
            "(4909, 12)\n",
            "Index(['id', 'gender', 'age', 'hypertension', 'heart_disease', 'ever_married',\n",
            "       'work_type', 'Residence_type', 'avg_glucose_level', 'bmi',\n",
            "       'smoking_status', 'stroke'],\n",
            "      dtype='object')\n"
          ]
        }
      ]
    },
    {
      "cell_type": "code",
      "source": [
        "spread = df1['stroke'].value_counts()\n",
        "plt.rcParams['figure.figsize'] = (5,5)\n",
        "\n",
        "# Set Labels\n",
        "spread.plot(kind = 'pie', autopct='%1.2f%%')\n",
        "plt.title(f'Stroke ratio')\n",
        "\n",
        "# Display the Chart\n",
        "plt.show()"
      ],
      "metadata": {
        "colab": {
          "base_uri": "https://localhost:8080/",
          "height": 444
        },
        "id": "xzfbwNDGSEKx",
        "outputId": "b1ad8f67-c444-4a9c-95f0-adaab51917db"
      },
      "execution_count": 118,
      "outputs": [
        {
          "output_type": "display_data",
          "data": {
            "text/plain": [
              "<Figure size 500x500 with 1 Axes>"
            ],
            "image/png": "[encoded data removed]"
          },
          "metadata": {}
        }
      ]
    },
    {
      "cell_type": "markdown",
      "source": [
        "## **What is/are the insight(s) found from the chart?**\n",
        "\n",
        "From the above chart, we got to know that the dataset contain 4.87% of patient's have stroke and 95.13% are not having stroke."
      ],
      "metadata": {
        "id": "x0qXus56S1Of"
      }
    },
    {
      "cell_type": "markdown",
      "source": [
        "# **Logistic Regression Modeling**"
      ],
      "metadata": {
        "id": "pSH_t5SdRBhd"
      }
    },
    {
      "cell_type": "code",
      "source": [
        "\n",
        "X=df.drop('stroke',axis=1)\n",
        "y=df['stroke']\n",
        "#Split the dataset\n",
        "X_train,X_test,y_train,y_test=train_test_split(X,y,test_size=0.25,random_state=74)\n",
        "\n",
        "# Feature scaling\n",
        "scaler = StandardScaler()\n",
        "X_train = scaler.fit_transform(X_train)\n",
        "X_test = scaler.transform(X_test)\n",
        "\n",
        "# Train Logistic Regression model\n",
        "model=LogisticRegression()\n",
        "model.fit(X_train,y_train)\n",
        "\n",
        "# Make predictions\n",
        "y_pred_train = model.predict(X_train)\n",
        "y_pred_test = model.predict(X_test)\n",
        "pred_prob_train = model.predict_proba(X_train)[:,1]\n",
        "pred_prob_test = model.predict_proba(X_test)[:,1]\n",
        "\n",
        "\n",
        "# calculate confusion matrix\n",
        "cm_train = confusion_matrix(y_train, y_pred_train)\n",
        "cm_test = confusion_matrix(y_test, y_pred_test)\n",
        "fig, ax = plt.subplots(1, 2, figsize=(11,4))\n",
        "print(\"\\nConfusion Matrix:\")\n",
        "sns.heatmap(cm_train, annot=True, xticklabels=['Negative', 'Positive'], yticklabels=['Negative', 'Positive'], cmap=\"Greens\", fmt='.4g', ax=ax[0])\n",
        "ax[0].set_xlabel(\"Predicted Label\")\n",
        "ax[0].set_ylabel(\"True Label\")\n",
        "ax[0].set_title(\"Train Confusion Matrix\")\n",
        "\n",
        "sns.heatmap(cm_test, annot=True, xticklabels=['Negative', 'Positive'], yticklabels=['Negative', 'Positive'], cmap=\"Blues\", fmt='.4g', ax=ax[1])\n",
        "ax[1].set_xlabel(\"Predicted Label\")\n",
        "ax[1].set_ylabel(\"True Label\")\n",
        "ax[1].set_title(\"Test Confusion Matrix\")\n",
        "\n",
        "plt.tight_layout()\n",
        "plt.show()\n",
        "\n",
        "# calculate classification report\n",
        "cr_train = classification_report(y_train, y_pred_train, output_dict=True)\n",
        "cr_test = classification_report(y_test, y_pred_test, output_dict=True)\n",
        "print(\"\\nTrain Classification Report:\")\n",
        "crt = pd.DataFrame(cr_train).T\n",
        "print(crt.to_markdown())\n",
        "print(\"\\nTest Classification Report:\")\n",
        "crt2 = pd.DataFrame(cr_test).T\n",
        "print(crt2.to_markdown())\n",
        "\n",
        "\n",
        "print(df.tail(2))\n"
      ],
      "metadata": {
        "colab": {
          "base_uri": "https://localhost:8080/",
          "height": 841
        },
        "id": "urX5NMHnNDjE",
        "outputId": "1e6d9863-29a8-45cf-9714-14889432d91a"
      },
      "execution_count": 119,
      "outputs": [
        {
          "output_type": "stream",
          "name": "stdout",
          "text": [
            "\n",
            "Confusion Matrix:\n"
          ]
        },
        {
          "output_type": "display_data",
          "data": {
            "text/plain": [
              "<Figure size 1100x400 with 4 Axes>"
            ],
            "image/png": "[encoded data removed]"
          },
          "metadata": {}
        },
        {
          "output_type": "stream",
          "name": "stdout",
          "text": [
            "\n",
            "Train Classification Report:\n",
            "|              |   precision |     recall |   f1-score |     support |\n",
            "|:-------------|------------:|-----------:|-----------:|------------:|\n",
            "| 0            |    0.957054 | 0.999716   |  0.97792   | 3522        |\n",
            "| 1            |    0.5      | 0.00628931 |  0.0124224 |  159        |\n",
            "| accuracy     |    0.956805 | 0.956805   |  0.956805  |    0.956805 |\n",
            "| macro avg    |    0.728527 | 0.503003   |  0.495171  | 3681        |\n",
            "| weighted avg |    0.937311 | 0.956805   |  0.936215  | 3681        |\n",
            "\n",
            "Test Classification Report:\n",
            "|              |   precision |   recall |   f1-score |     support |\n",
            "|:-------------|------------:|---------:|-----------:|------------:|\n",
            "| 0            |    0.95925  | 0.999151 |   0.978794 | 1178        |\n",
            "| 1            |    0        | 0        |   0        |   50        |\n",
            "| accuracy     |    0.958469 | 0.958469 |   0.958469 |    0.958469 |\n",
            "| macro avg    |    0.479625 | 0.499576 |   0.489397 | 1228        |\n",
            "| weighted avg |    0.920193 | 0.958469 |   0.938941 | 1228        |\n",
            "         id  gender   age  hypertension  ...  avg_glucose_level   bmi  smoking_status  stroke\n",
            "5108  37544       1  51.0             0  ...             166.29  25.6               1       0\n",
            "5109  44679       0  44.0             0  ...              85.28  26.2               0       0\n",
            "\n",
            "[2 rows x 12 columns]\n"
          ]
        }
      ]
    },
    {
      "cell_type": "code",
      "source": [
        "df.tail(2)"
      ],
      "metadata": {
        "colab": {
          "base_uri": "https://localhost:8080/",
          "height": 112
        },
        "id": "6vg7C9-oZgoQ",
        "outputId": "a3a15359-d6fe-44df-9d9b-0fae469e4ddf"
      },
      "execution_count": 124,
      "outputs": [
        {
          "output_type": "execute_result",
          "data": {
            "text/plain": [
              "         id  gender   age  hypertension  ...  avg_glucose_level   bmi  smoking_status  stroke\n",
              "5108  37544       1  51.0             0  ...             166.29  25.6               1       0\n",
              "5109  44679       0  44.0             0  ...              85.28  26.2               0       0\n",
              "\n",
              "[2 rows x 12 columns]"
            ],
            "text/html": [
              "\n",
              "  <div id=\"df-44f70905-be54-43e2-bdd1-ba65598073e3\" class=\"colab-df-container\">\n",
              "    <div>\n",
              "<style scoped>\n",
              "    .dataframe tbody tr th:only-of-type {\n",
              "        vertical-align: middle;\n",
              "    }\n",
              "\n",
              "    .dataframe tbody tr th {\n",
              "        vertical-align: top;\n",
              "    }\n",
              "\n",
              "    .dataframe thead th {\n",
              "        text-align: right;\n",
              "    }\n",
              "</style>\n",
              "<table border=\"1\" class=\"dataframe\">\n",
              "  <thead>\n",
              "    <tr style=\"text-align: right;\">\n",
              "      <th></th>\n",
              "      <th>id</th>\n",
              "      <th>gender</th>\n",
              "      <th>age</th>\n",
              "      <th>hypertension</th>\n",
              "      <th>heart_disease</th>\n",
              "      <th>ever_married</th>\n",
              "      <th>work_type</th>\n",
              "      <th>Residence_type</th>\n",
              "      <th>avg_glucose_level</th>\n",
              "      <th>bmi</th>\n",
              "      <th>smoking_status</th>\n",
              "      <th>stroke</th>\n",
              "    </tr>\n",
              "  </thead>\n",
              "  <tbody>\n",
              "    <tr>\n",
              "      <th>5108</th>\n",
              "      <td>37544</td>\n",
              "      <td>1</td>\n",
              "      <td>51.0</td>\n",
              "      <td>0</td>\n",
              "      <td>0</td>\n",
              "      <td>1</td>\n",
              "      <td>2</td>\n",
              "      <td>0</td>\n",
              "      <td>166.29</td>\n",
              "      <td>25.6</td>\n",
              "      <td>1</td>\n",
              "      <td>0</td>\n",
              "    </tr>\n",
              "    <tr>\n",
              "      <th>5109</th>\n",
              "      <td>44679</td>\n",
              "      <td>0</td>\n",
              "      <td>44.0</td>\n",
              "      <td>0</td>\n",
              "      <td>0</td>\n",
              "      <td>1</td>\n",
              "      <td>0</td>\n",
              "      <td>1</td>\n",
              "      <td>85.28</td>\n",
              "      <td>26.2</td>\n",
              "      <td>0</td>\n",
              "      <td>0</td>\n",
              "    </tr>\n",
              "  </tbody>\n",
              "</table>\n",
              "</div>\n",
              "    <div class=\"colab-df-buttons\">\n",
              "\n",
              "  <div class=\"colab-df-container\">\n",
              "    <button class=\"colab-df-convert\" onclick=\"convertToInteractive('df-44f70905-be54-43e2-bdd1-ba65598073e3')\"\n",
              "            title=\"Convert this dataframe to an interactive table.\"\n",
              "            style=\"display:none;\">\n",
              "\n",
              "  <svg xmlns=\"http://www.w3.org/2000/svg\" height=\"24px\" viewBox=\"0 -960 960 960\">\n",
              "    <path d=\"M120-120v-720h720v720H120Zm60-500h600v-160H180v160Zm220 220h160v-160H400v160Zm0 220h160v-160H400v160ZM180-400h160v-160H180v160Zm440 0h160v-160H620v160ZM180-180h160v-160H180v160Zm440 0h160v-160H620v160Z\"/>\n",
              "  </svg>\n",
              "    </button>\n",
              "\n",
              "  <style>\n",
              "    .colab-df-container {\n",
              "      display:flex;\n",
              "      gap: 12px;\n",
              "    }\n",
              "\n",
              "    .colab-df-convert {\n",
              "      background-color: #E8F0FE;\n",
              "      border: none;\n",
              "      border-radius: 50%;\n",
              "      cursor: pointer;\n",
              "      display: none;\n",
              "      fill: #1967D2;\n",
              "      height: 32px;\n",
              "      padding: 0 0 0 0;\n",
              "      width: 32px;\n",
              "    }\n",
              "\n",
              "    .colab-df-convert:hover {\n",
              "      background-color: #E2EBFA;\n",
              "      box-shadow: 0px 1px 2px rgba(60, 64, 67, 0.3), 0px 1px 3px 1px rgba(60, 64, 67, 0.15);\n",
              "      fill: #174EA6;\n",
              "    }\n",
              "\n",
              "    .colab-df-buttons div {\n",
              "      margin-bottom: 4px;\n",
              "    }\n",
              "\n",
              "    [theme=dark] .colab-df-convert {\n",
              "      background-color: #3B4455;\n",
              "      fill: #D2E3FC;\n",
              "    }\n",
              "\n",
              "    [theme=dark] .colab-df-convert:hover {\n",
              "      background-color: #434B5C;\n",
              "      box-shadow: 0px 1px 3px 1px rgba(0, 0, 0, 0.15);\n",
              "      filter: drop-shadow(0px 1px 2px rgba(0, 0, 0, 0.3));\n",
              "      fill: #FFFFFF;\n",
              "    }\n",
              "  </style>\n",
              "\n",
              "    <script>\n",
              "      const buttonEl =\n",
              "        document.querySelector('#df-44f70905-be54-43e2-bdd1-ba65598073e3 button.colab-df-convert');\n",
              "      buttonEl.style.display =\n",
              "        google.colab.kernel.accessAllowed ? 'block' : 'none';\n",
              "\n",
              "      async function convertToInteractive(key) {\n",
              "        const element = document.querySelector('#df-44f70905-be54-43e2-bdd1-ba65598073e3');\n",
              "        const dataTable =\n",
              "          await google.colab.kernel.invokeFunction('convertToInteractive',\n",
              "                                                    [key], {});\n",
              "        if (!dataTable) return;\n",
              "\n",
              "        const docLinkHtml = 'Like what you see? Visit the ' +\n",
              "          '<a target=\"_blank\" href=https://colab.research.google.com/notebooks/data_table.ipynb>data table notebook</a>'\n",
              "          + ' to learn more about interactive tables.';\n",
              "        element.innerHTML = '';\n",
              "        dataTable['output_type'] = 'display_data';\n",
              "        await google.colab.output.renderOutput(dataTable, element);\n",
              "        const docLink = document.createElement('div');\n",
              "        docLink.innerHTML = docLinkHtml;\n",
              "        element.appendChild(docLink);\n",
              "      }\n",
              "    </script>\n",
              "  </div>\n",
              "\n",
              "\n",
              "<div id=\"df-c986ae0b-bc46-4a93-aee2-81abcac43476\">\n",
              "  <button class=\"colab-df-quickchart\" onclick=\"quickchart('df-c986ae0b-bc46-4a93-aee2-81abcac43476')\"\n",
              "            title=\"Suggest charts\"\n",
              "            style=\"display:none;\">\n",
              "\n",
              "<svg xmlns=\"http://www.w3.org/2000/svg\" height=\"24px\"viewBox=\"0 0 24 24\"\n",
              "     width=\"24px\">\n",
              "    <g>\n",
              "        <path d=\"M19 3H5c-1.1 0-2 .9-2 2v14c0 1.1.9 2 2 2h14c1.1 0 2-.9 2-2V5c0-1.1-.9-2-2-2zM9 17H7v-7h2v7zm4 0h-2V7h2v10zm4 0h-2v-4h2v4z\"/>\n",
              "    </g>\n",
              "</svg>\n",
              "  </button>\n",
              "\n",
              "<style>\n",
              "  .colab-df-quickchart {\n",
              "      --bg-color: #E8F0FE;\n",
              "      --fill-color: #1967D2;\n",
              "      --hover-bg-color: #E2EBFA;\n",
              "      --hover-fill-color: #174EA6;\n",
              "      --disabled-fill-color: #AAA;\n",
              "      --disabled-bg-color: #DDD;\n",
              "  }\n",
              "\n",
              "  [theme=dark] .colab-df-quickchart {\n",
              "      --bg-color: #3B4455;\n",
              "      --fill-color: #D2E3FC;\n",
              "      --hover-bg-color: #434B5C;\n",
              "      --hover-fill-color: #FFFFFF;\n",
              "      --disabled-bg-color: #3B4455;\n",
              "      --disabled-fill-color: #666;\n",
              "  }\n",
              "\n",
              "  .colab-df-quickchart {\n",
              "    background-color: var(--bg-color);\n",
              "    border: none;\n",
              "    border-radius: 50%;\n",
              "    cursor: pointer;\n",
              "    display: none;\n",
              "    fill: var(--fill-color);\n",
              "    height: 32px;\n",
              "    padding: 0;\n",
              "    width: 32px;\n",
              "  }\n",
              "\n",
              "  .colab-df-quickchart:hover {\n",
              "    background-color: var(--hover-bg-color);\n",
              "    box-shadow: 0 1px 2px rgba(60, 64, 67, 0.3), 0 1px 3px 1px rgba(60, 64, 67, 0.15);\n",
              "    fill: var(--button-hover-fill-color);\n",
              "  }\n",
              "\n",
              "  .colab-df-quickchart-complete:disabled,\n",
              "  .colab-df-quickchart-complete:disabled:hover {\n",
              "    background-color: var(--disabled-bg-color);\n",
              "    fill: var(--disabled-fill-color);\n",
              "    box-shadow: none;\n",
              "  }\n",
              "\n",
              "  .colab-df-spinner {\n",
              "    border: 2px solid var(--fill-color);\n",
              "    border-color: transparent;\n",
              "    border-bottom-color: var(--fill-color);\n",
              "    animation:\n",
              "      spin 1s steps(1) infinite;\n",
              "  }\n",
              "\n",
              "  @keyframes spin {\n",
              "    0% {\n",
              "      border-color: transparent;\n",
              "      border-bottom-color: var(--fill-color);\n",
              "      border-left-color: var(--fill-color);\n",
              "    }\n",
              "    20% {\n",
              "      border-color: transparent;\n",
              "      border-left-color: var(--fill-color);\n",
              "      border-top-color: var(--fill-color);\n",
              "    }\n",
              "    30% {\n",
              "      border-color: transparent;\n",
              "      border-left-color: var(--fill-color);\n",
              "      border-top-color: var(--fill-color);\n",
              "      border-right-color: var(--fill-color);\n",
              "    }\n",
              "    40% {\n",
              "      border-color: transparent;\n",
              "      border-right-color: var(--fill-color);\n",
              "      border-top-color: var(--fill-color);\n",
              "    }\n",
              "    60% {\n",
              "      border-color: transparent;\n",
              "      border-right-color: var(--fill-color);\n",
              "    }\n",
              "    80% {\n",
              "      border-color: transparent;\n",
              "      border-right-color: var(--fill-color);\n",
              "      border-bottom-color: var(--fill-color);\n",
              "    }\n",
              "    90% {\n",
              "      border-color: transparent;\n",
              "      border-bottom-color: var(--fill-color);\n",
              "    }\n",
              "  }\n",
              "</style>\n",
              "\n",
              "  <script>\n",
              "    async function quickchart(key) {\n",
              "      const quickchartButtonEl =\n",
              "        document.querySelector('#' + key + ' button');\n",
              "      quickchartButtonEl.disabled = true;  // To prevent multiple clicks.\n",
              "      quickchartButtonEl.classList.add('colab-df-spinner');\n",
              "      try {\n",
              "        const charts = await google.colab.kernel.invokeFunction(\n",
              "            'suggestCharts', [key], {});\n",
              "      } catch (error) {\n",
              "        console.error('Error during call to suggestCharts:', error);\n",
              "      }\n",
              "      quickchartButtonEl.classList.remove('colab-df-spinner');\n",
              "      quickchartButtonEl.classList.add('colab-df-quickchart-complete');\n",
              "    }\n",
              "    (() => {\n",
              "      let quickchartButtonEl =\n",
              "        document.querySelector('#df-c986ae0b-bc46-4a93-aee2-81abcac43476 button');\n",
              "      quickchartButtonEl.style.display =\n",
              "        google.colab.kernel.accessAllowed ? 'block' : 'none';\n",
              "    })();\n",
              "  </script>\n",
              "</div>\n",
              "\n",
              "    </div>\n",
              "  </div>\n"
            ],
            "application/vnd.google.colaboratory.intrinsic+json": {
              "type": "dataframe",
              "summary": "{\n  \"name\": \"df\",\n  \"rows\": 2,\n  \"fields\": [\n    {\n      \"column\": \"id\",\n      \"properties\": {\n        \"dtype\": \"number\",\n        \"std\": 5045,\n        \"min\": 37544,\n        \"max\": 44679,\n        \"num_unique_values\": 2,\n        \"samples\": [\n          44679,\n          37544\n        ],\n        \"semantic_type\": \"\",\n        \"description\": \"\"\n      }\n    },\n    {\n      \"column\": \"gender\",\n      \"properties\": {\n        \"dtype\": \"number\",\n        \"std\": 0,\n        \"min\": 0,\n        \"max\": 1,\n        \"num_unique_values\": 2,\n        \"samples\": [\n          0,\n          1\n        ],\n        \"semantic_type\": \"\",\n        \"description\": \"\"\n      }\n    },\n    {\n      \"column\": \"age\",\n      \"properties\": {\n        \"dtype\": \"number\",\n        \"std\": 4.949747468305833,\n        \"min\": 44.0,\n        \"max\": 51.0,\n        \"num_unique_values\": 2,\n        \"samples\": [\n          44.0,\n          51.0\n        ],\n        \"semantic_type\": \"\",\n        \"description\": \"\"\n      }\n    },\n    {\n      \"column\": \"hypertension\",\n      \"properties\": {\n        \"dtype\": \"number\",\n        \"std\": 0,\n        \"min\": 0,\n        \"max\": 0,\n        \"num_unique_values\": 1,\n        \"samples\": [\n          0\n        ],\n        \"semantic_type\": \"\",\n        \"description\": \"\"\n      }\n    },\n    {\n      \"column\": \"heart_disease\",\n      \"properties\": {\n        \"dtype\": \"number\",\n        \"std\": 0,\n        \"min\": 0,\n        \"max\": 0,\n        \"num_unique_values\": 1,\n        \"samples\": [\n          0\n        ],\n        \"semantic_type\": \"\",\n        \"description\": \"\"\n      }\n    },\n    {\n      \"column\": \"ever_married\",\n      \"properties\": {\n        \"dtype\": \"number\",\n        \"std\": 0,\n        \"min\": 1,\n        \"max\": 1,\n        \"num_unique_values\": 1,\n        \"samples\": [\n          1\n        ],\n        \"semantic_type\": \"\",\n        \"description\": \"\"\n      }\n    },\n    {\n      \"column\": \"work_type\",\n      \"properties\": {\n        \"dtype\": \"number\",\n        \"std\": 1,\n        \"min\": 0,\n        \"max\": 2,\n        \"num_unique_values\": 2,\n        \"samples\": [\n          0\n        ],\n        \"semantic_type\": \"\",\n        \"description\": \"\"\n      }\n    },\n    {\n      \"column\": \"Residence_type\",\n      \"properties\": {\n        \"dtype\": \"number\",\n        \"std\": 0,\n        \"min\": 0,\n        \"max\": 1,\n        \"num_unique_values\": 2,\n        \"samples\": [\n          1\n        ],\n        \"semantic_type\": \"\",\n        \"description\": \"\"\n      }\n    },\n    {\n      \"column\": \"avg_glucose_level\",\n      \"properties\": {\n        \"dtype\": \"number\",\n        \"std\": 57.28272034392221,\n        \"min\": 85.28,\n        \"max\": 166.29,\n        \"num_unique_values\": 2,\n        \"samples\": [\n          85.28\n        ],\n        \"semantic_type\": \"\",\n        \"description\": \"\"\n      }\n    },\n    {\n      \"column\": \"bmi\",\n      \"properties\": {\n        \"dtype\": \"number\",\n        \"std\": 0.424264068711927,\n        \"min\": 25.6,\n        \"max\": 26.2,\n        \"num_unique_values\": 2,\n        \"samples\": [\n          26.2\n        ],\n        \"semantic_type\": \"\",\n        \"description\": \"\"\n      }\n    },\n    {\n      \"column\": \"smoking_status\",\n      \"properties\": {\n        \"dtype\": \"number\",\n        \"std\": 0,\n        \"min\": 0,\n        \"max\": 1,\n        \"num_unique_values\": 2,\n        \"samples\": [\n          0\n        ],\n        \"semantic_type\": \"\",\n        \"description\": \"\"\n      }\n    },\n    {\n      \"column\": \"stroke\",\n      \"properties\": {\n        \"dtype\": \"number\",\n        \"std\": 0,\n        \"min\": 0,\n        \"max\": 0,\n        \"num_unique_values\": 1,\n        \"samples\": [\n          0\n        ],\n        \"semantic_type\": \"\",\n        \"description\": \"\"\n      }\n    }\n  ]\n}"
            }
          },
          "metadata": {},
          "execution_count": 124
        }
      ]
    },
    {
      "cell_type": "code",
      "source": [],
      "metadata": {
        "id": "p8888z3GdxxG"
      },
      "execution_count": null,
      "outputs": []
    }
  ]
}